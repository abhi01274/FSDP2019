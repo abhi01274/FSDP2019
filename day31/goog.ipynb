{
  "nbformat": 4,
  "nbformat_minor": 0,
  "metadata": {
    "colab": {
      "name": "goog.ipynb",
      "version": "0.3.2",
      "provenance": [],
      "collapsed_sections": []
    },
    "kernelspec": {
      "name": "python3",
      "display_name": "Python 3"
    }
  },
  "cells": [
    {
      "cell_type": "code",
      "metadata": {
        "id": "1RJPCNXeDOiL",
        "colab_type": "code",
        "colab": {}
      },
      "source": [
        "import numpy as np\n",
        "import matplotlib.pyplot as plt\n",
        "import pandas as pd\n"
      ],
      "execution_count": 0,
      "outputs": []
    },
    {
      "cell_type": "code",
      "metadata": {
        "id": "QCOnTvPgDWem",
        "colab_type": "code",
        "colab": {
          "base_uri": "https://localhost:8080/",
          "height": 122
        },
        "outputId": "631bae67-93d3-496c-bcc6-357434477cee"
      },
      "source": [
        "from google.colab import drive\n",
        "drive.mount('/content/drive')"
      ],
      "execution_count": 2,
      "outputs": [
        {
          "output_type": "stream",
          "text": [
            "Go to this URL in a browser: https://accounts.google.com/o/oauth2/auth?client_id=947318989803-6bn6qk8qdgf4n4g3pfee6491hc0brc4i.apps.googleusercontent.com&redirect_uri=urn%3Aietf%3Awg%3Aoauth%3A2.0%3Aoob&scope=email%20https%3A%2F%2Fwww.googleapis.com%2Fauth%2Fdocs.test%20https%3A%2F%2Fwww.googleapis.com%2Fauth%2Fdrive%20https%3A%2F%2Fwww.googleapis.com%2Fauth%2Fdrive.photos.readonly%20https%3A%2F%2Fwww.googleapis.com%2Fauth%2Fpeopleapi.readonly&response_type=code\n",
            "\n",
            "Enter your authorization code:\n",
            "··········\n",
            "Mounted at /content/drive\n"
          ],
          "name": "stdout"
        }
      ]
    },
    {
      "cell_type": "code",
      "metadata": {
        "id": "BpBltx3_EWH1",
        "colab_type": "code",
        "colab": {}
      },
      "source": [
        "import os\n",
        "os.getcwd()\n",
        "os.chdir('/content/drive/My Drive/day 31')"
      ],
      "execution_count": 0,
      "outputs": []
    },
    {
      "cell_type": "code",
      "metadata": {
        "id": "lg9fy7N3EdDA",
        "colab_type": "code",
        "colab": {}
      },
      "source": [
        "train_ = pd.read_csv('HistoricalQuotes.csv')  "
      ],
      "execution_count": 0,
      "outputs": []
    },
    {
      "cell_type": "code",
      "metadata": {
        "id": "BCnWflGXEuTB",
        "colab_type": "code",
        "colab": {}
      },
      "source": [
        "\n",
        "train1=train_[[\"volume\",\"high\",\"low\"]]"
      ],
      "execution_count": 0,
      "outputs": []
    },
    {
      "cell_type": "code",
      "metadata": {
        "id": "HzvDTlVRFZG9",
        "colab_type": "code",
        "colab": {}
      },
      "source": [
        "train1=train1.loc[1:,:]"
      ],
      "execution_count": 0,
      "outputs": []
    },
    {
      "cell_type": "code",
      "metadata": {
        "id": "ZkH-K6YuLiji",
        "colab_type": "code",
        "colab": {}
      },
      "source": [
        "train1"
      ],
      "execution_count": 0,
      "outputs": []
    },
    {
      "cell_type": "code",
      "metadata": {
        "id": "Uu74w0i7Gkpq",
        "colab_type": "code",
        "colab": {}
      },
      "source": [
        "lis1=[]\n",
        "for x in range(1,1315):\n",
        "  avg=(float(train1[\"high\"][x])+float(train1[\"low\"][x]))/2\n",
        "  lis1.append(avg)"
      ],
      "execution_count": 0,
      "outputs": []
    },
    {
      "cell_type": "code",
      "metadata": {
        "id": "56D7343uLdSU",
        "colab_type": "code",
        "colab": {}
      },
      "source": [
        "les=pd.DataFrame({\"vol\":(train1[\"volume\"].astype(float)),\"avg\":lis1})"
      ],
      "execution_count": 0,
      "outputs": []
    },
    {
      "cell_type": "code",
      "metadata": {
        "id": "VX8AkaTJWvRX",
        "colab_type": "code",
        "colab": {}
      },
      "source": [
        "les1 = les.sort_index(axis=0 ,ascending=False)"
      ],
      "execution_count": 0,
      "outputs": []
    },
    {
      "cell_type": "code",
      "metadata": {
        "id": "fjnyuVXGTALL",
        "colab_type": "code",
        "colab": {}
      },
      "source": [
        "from sklearn.preprocessing import MinMaxScaler  \n",
        "scaler = MinMaxScaler(feature_range = (0, 1))\n",
        "\n",
        "les_scaled = scaler.fit_transform(les1)  "
      ],
      "execution_count": 0,
      "outputs": []
    },
    {
      "cell_type": "code",
      "metadata": {
        "id": "0DtmzKfgTE-2",
        "colab_type": "code",
        "colab": {
          "base_uri": "https://localhost:8080/",
          "height": 136
        },
        "outputId": "ccde3125-68ac-48ab-d593-fc2929226d0e"
      },
      "source": [
        "les_scaled"
      ],
      "execution_count": 130,
      "outputs": [
        {
          "output_type": "execute_result",
          "data": {
            "text/plain": [
              "array([[4.59375422e-04, 8.73927954e-02],\n",
              "       [2.96718839e-03, 9.00517796e-02],\n",
              "       [2.54809804e-04, 8.93075185e-02],\n",
              "       ...,\n",
              "       [9.45059956e-02, 7.41038539e-01],\n",
              "       [9.42139512e-02, 7.57482257e-01],\n",
              "       [9.90268957e-02, 7.56554857e-01]])"
            ]
          },
          "metadata": {
            "tags": []
          },
          "execution_count": 130
        }
      ]
    },
    {
      "cell_type": "code",
      "metadata": {
        "id": "O9pgdKWcMsg0",
        "colab_type": "code",
        "colab": {}
      },
      "source": [
        "tes=les_scaled[919:,:]\n"
      ],
      "execution_count": 0,
      "outputs": []
    },
    {
      "cell_type": "code",
      "metadata": {
        "id": "RZ_Q_4HVYa6u",
        "colab_type": "code",
        "colab": {
          "base_uri": "https://localhost:8080/",
          "height": 34
        },
        "outputId": "d1fa1ee9-0f00-4b60-b832-1d65f98695f7"
      },
      "source": [
        "tes.shape"
      ],
      "execution_count": 163,
      "outputs": [
        {
          "output_type": "execute_result",
          "data": {
            "text/plain": [
              "(395, 2)"
            ]
          },
          "metadata": {
            "tags": []
          },
          "execution_count": 163
        }
      ]
    },
    {
      "cell_type": "code",
      "metadata": {
        "id": "su9ro3Q4OOBP",
        "colab_type": "code",
        "colab": {}
      },
      "source": [
        "tra=les_scaled[0:919,:]"
      ],
      "execution_count": 0,
      "outputs": []
    },
    {
      "cell_type": "code",
      "metadata": {
        "id": "aU_6hIKUYeql",
        "colab_type": "code",
        "colab": {
          "base_uri": "https://localhost:8080/",
          "height": 34
        },
        "outputId": "78c2628e-e396-466b-d42f-72deadbbcfe9"
      },
      "source": [
        "tra.shape"
      ],
      "execution_count": 164,
      "outputs": [
        {
          "output_type": "execute_result",
          "data": {
            "text/plain": [
              "(919, 2)"
            ]
          },
          "metadata": {
            "tags": []
          },
          "execution_count": 164
        }
      ]
    },
    {
      "cell_type": "code",
      "metadata": {
        "id": "WwPeCmhcUIWY",
        "colab_type": "code",
        "colab": {}
      },
      "source": [
        "features_set = []  \n",
        "labels = []  \n",
        "for i in range(50, 919):  \n",
        "    features_set.append(tra[i-50:i,0:2])\n",
        "    labels.append(tra[i, 0])"
      ],
      "execution_count": 0,
      "outputs": []
    },
    {
      "cell_type": "code",
      "metadata": {
        "id": "yPHwKS37Zbuz",
        "colab_type": "code",
        "colab": {}
      },
      "source": [
        "features_set, labels = np.array(features_set), np.array(labels)  "
      ],
      "execution_count": 0,
      "outputs": []
    },
    {
      "cell_type": "code",
      "metadata": {
        "id": "SHkMVM6GZjj9",
        "colab_type": "code",
        "colab": {
          "base_uri": "https://localhost:8080/",
          "height": 34
        },
        "outputId": "b7b651c6-07db-4cbc-cc63-cfad6cdada10"
      },
      "source": [
        "features_set.shape"
      ],
      "execution_count": 138,
      "outputs": [
        {
          "output_type": "execute_result",
          "data": {
            "text/plain": [
              "(869, 50, 2)"
            ]
          },
          "metadata": {
            "tags": []
          },
          "execution_count": 138
        }
      ]
    },
    {
      "cell_type": "code",
      "metadata": {
        "id": "V-jexxZuZxcq",
        "colab_type": "code",
        "colab": {}
      },
      "source": [
        "features_set = np.reshape(features_set, (features_set.shape[0], features_set.shape[1], 2))  "
      ],
      "execution_count": 0,
      "outputs": []
    },
    {
      "cell_type": "code",
      "metadata": {
        "id": "OpBCzs6BaAYV",
        "colab_type": "code",
        "colab": {
          "base_uri": "https://localhost:8080/",
          "height": 34
        },
        "outputId": "8c470c87-326b-4529-e073-63e5508a2aa0"
      },
      "source": [
        "from keras.models import Sequential  \n",
        "from keras.layers import Dense  \n",
        "from keras.layers import LSTM  \n",
        "from keras.layers import Dropout"
      ],
      "execution_count": 142,
      "outputs": [
        {
          "output_type": "stream",
          "text": [
            "Using TensorFlow backend.\n"
          ],
          "name": "stderr"
        }
      ]
    },
    {
      "cell_type": "code",
      "metadata": {
        "id": "JtQVTyKIaL-t",
        "colab_type": "code",
        "colab": {
          "base_uri": "https://localhost:8080/",
          "height": 88
        },
        "outputId": "8635059d-3cd3-410b-9338-7787464fd193"
      },
      "source": [
        "model = Sequential()"
      ],
      "execution_count": 143,
      "outputs": [
        {
          "output_type": "stream",
          "text": [
            "WARNING: Logging before flag parsing goes to stderr.\n",
            "W0617 12:28:20.580841 140401475671936 deprecation_wrapper.py:119] From /usr/local/lib/python3.6/dist-packages/keras/backend/tensorflow_backend.py:74: The name tf.get_default_graph is deprecated. Please use tf.compat.v1.get_default_graph instead.\n",
            "\n"
          ],
          "name": "stderr"
        }
      ]
    },
    {
      "cell_type": "code",
      "metadata": {
        "id": "DqtomI-raPQg",
        "colab_type": "code",
        "colab": {
          "base_uri": "https://localhost:8080/",
          "height": 105
        },
        "outputId": "37179d15-7b04-4738-e44a-4cd6203ee7a0"
      },
      "source": [
        "model.add(LSTM(units=50, return_sequences=True, input_shape=(features_set.shape[1], 2))) "
      ],
      "execution_count": 144,
      "outputs": [
        {
          "output_type": "stream",
          "text": [
            "W0617 12:29:17.290184 140401475671936 deprecation_wrapper.py:119] From /usr/local/lib/python3.6/dist-packages/keras/backend/tensorflow_backend.py:517: The name tf.placeholder is deprecated. Please use tf.compat.v1.placeholder instead.\n",
            "\n",
            "W0617 12:29:17.311148 140401475671936 deprecation_wrapper.py:119] From /usr/local/lib/python3.6/dist-packages/keras/backend/tensorflow_backend.py:4138: The name tf.random_uniform is deprecated. Please use tf.random.uniform instead.\n",
            "\n"
          ],
          "name": "stderr"
        }
      ]
    },
    {
      "cell_type": "code",
      "metadata": {
        "id": "qgUMoBKEae29",
        "colab_type": "code",
        "colab": {
          "base_uri": "https://localhost:8080/",
          "height": 122
        },
        "outputId": "452d6fca-416e-4375-def1-ad914c733c83"
      },
      "source": [
        "model.add(Dropout(0.2)) "
      ],
      "execution_count": 145,
      "outputs": [
        {
          "output_type": "stream",
          "text": [
            "W0617 12:29:46.533112 140401475671936 deprecation_wrapper.py:119] From /usr/local/lib/python3.6/dist-packages/keras/backend/tensorflow_backend.py:133: The name tf.placeholder_with_default is deprecated. Please use tf.compat.v1.placeholder_with_default instead.\n",
            "\n",
            "W0617 12:29:46.549117 140401475671936 deprecation.py:506] From /usr/local/lib/python3.6/dist-packages/keras/backend/tensorflow_backend.py:3445: calling dropout (from tensorflow.python.ops.nn_ops) with keep_prob is deprecated and will be removed in a future version.\n",
            "Instructions for updating:\n",
            "Please use `rate` instead of `keep_prob`. Rate should be set to `rate = 1 - keep_prob`.\n"
          ],
          "name": "stderr"
        }
      ]
    },
    {
      "cell_type": "code",
      "metadata": {
        "id": "8b6qBeY-akrQ",
        "colab_type": "code",
        "colab": {
          "base_uri": "https://localhost:8080/",
          "height": 204
        },
        "outputId": "443dc7cf-2916-4a7e-baa1-34f170fbca24"
      },
      "source": [
        "model.summary()"
      ],
      "execution_count": 146,
      "outputs": [
        {
          "output_type": "stream",
          "text": [
            "_________________________________________________________________\n",
            "Layer (type)                 Output Shape              Param #   \n",
            "=================================================================\n",
            "lstm_1 (LSTM)                (None, 50, 50)            10600     \n",
            "_________________________________________________________________\n",
            "dropout_1 (Dropout)          (None, 50, 50)            0         \n",
            "=================================================================\n",
            "Total params: 10,600\n",
            "Trainable params: 10,600\n",
            "Non-trainable params: 0\n",
            "_________________________________________________________________\n"
          ],
          "name": "stdout"
        }
      ]
    },
    {
      "cell_type": "code",
      "metadata": {
        "id": "B5NjjTO3avA-",
        "colab_type": "code",
        "colab": {}
      },
      "source": [
        "model.add(LSTM(units=50, return_sequences=True))  \n",
        "model.add(Dropout(0.2))\n",
        "\n",
        "model.add(LSTM(units=50, return_sequences=True))  \n",
        "model.add(Dropout(0.2))\n",
        "\n",
        "model.add(LSTM(units=50))  \n",
        "model.add(Dropout(0.2))  "
      ],
      "execution_count": 0,
      "outputs": []
    },
    {
      "cell_type": "code",
      "metadata": {
        "id": "Rb0CukCGbaLY",
        "colab_type": "code",
        "colab": {}
      },
      "source": [
        "model.add(Dense(units = 1)) "
      ],
      "execution_count": 0,
      "outputs": []
    },
    {
      "cell_type": "code",
      "metadata": {
        "id": "AoXdTLqLbdgZ",
        "colab_type": "code",
        "colab": {
          "base_uri": "https://localhost:8080/",
          "height": 71
        },
        "outputId": "e91abc8e-8676-47ae-da32-c05053f3016c"
      },
      "source": [
        "model.compile(optimizer = 'adam', loss = 'mean_squared_error')  \n"
      ],
      "execution_count": 149,
      "outputs": [
        {
          "output_type": "stream",
          "text": [
            "W0617 12:33:58.786816 140401475671936 deprecation_wrapper.py:119] From /usr/local/lib/python3.6/dist-packages/keras/optimizers.py:790: The name tf.train.Optimizer is deprecated. Please use tf.compat.v1.train.Optimizer instead.\n",
            "\n"
          ],
          "name": "stderr"
        }
      ]
    },
    {
      "cell_type": "code",
      "metadata": {
        "id": "DfWknYnHbh6T",
        "colab_type": "code",
        "colab": {
          "base_uri": "https://localhost:8080/",
          "height": 3539
        },
        "outputId": "c2a8823b-52db-43cd-d115-bd3f918059a9"
      },
      "source": [
        "model.fit(features_set, labels, epochs = 100, batch_size = 32)  \n"
      ],
      "execution_count": 150,
      "outputs": [
        {
          "output_type": "stream",
          "text": [
            "W0617 12:34:16.365528 140401475671936 deprecation.py:323] From /usr/local/lib/python3.6/dist-packages/tensorflow/python/ops/math_grad.py:1250: add_dispatch_support.<locals>.wrapper (from tensorflow.python.ops.array_ops) is deprecated and will be removed in a future version.\n",
            "Instructions for updating:\n",
            "Use tf.where in 2.0, which has the same broadcast rule as np.where\n",
            "W0617 12:34:19.118883 140401475671936 deprecation_wrapper.py:119] From /usr/local/lib/python3.6/dist-packages/keras/backend/tensorflow_backend.py:986: The name tf.assign_add is deprecated. Please use tf.compat.v1.assign_add instead.\n",
            "\n"
          ],
          "name": "stderr"
        },
        {
          "output_type": "stream",
          "text": [
            "Epoch 1/100\n",
            "869/869 [==============================] - 7s 8ms/step - loss: 0.0092\n",
            "Epoch 2/100\n",
            "869/869 [==============================] - 4s 4ms/step - loss: 0.0065\n",
            "Epoch 3/100\n",
            "869/869 [==============================] - 4s 5ms/step - loss: 0.0069\n",
            "Epoch 4/100\n",
            "869/869 [==============================] - 4s 5ms/step - loss: 0.0067\n",
            "Epoch 5/100\n",
            "869/869 [==============================] - 4s 5ms/step - loss: 0.0067\n",
            "Epoch 6/100\n",
            "869/869 [==============================] - 4s 5ms/step - loss: 0.0067\n",
            "Epoch 7/100\n",
            "869/869 [==============================] - 4s 5ms/step - loss: 0.0065\n",
            "Epoch 8/100\n",
            "869/869 [==============================] - 4s 5ms/step - loss: 0.0066\n",
            "Epoch 9/100\n",
            "869/869 [==============================] - 4s 5ms/step - loss: 0.0066\n",
            "Epoch 10/100\n",
            "869/869 [==============================] - 4s 5ms/step - loss: 0.0067\n",
            "Epoch 11/100\n",
            "869/869 [==============================] - 4s 5ms/step - loss: 0.0063\n",
            "Epoch 12/100\n",
            "869/869 [==============================] - 4s 5ms/step - loss: 0.0064\n",
            "Epoch 13/100\n",
            "869/869 [==============================] - 4s 5ms/step - loss: 0.0064\n",
            "Epoch 14/100\n",
            "869/869 [==============================] - 4s 5ms/step - loss: 0.0063\n",
            "Epoch 15/100\n",
            "869/869 [==============================] - 4s 5ms/step - loss: 0.0064\n",
            "Epoch 16/100\n",
            "869/869 [==============================] - 4s 5ms/step - loss: 0.0064\n",
            "Epoch 17/100\n",
            "869/869 [==============================] - 4s 5ms/step - loss: 0.0065\n",
            "Epoch 18/100\n",
            "869/869 [==============================] - 4s 5ms/step - loss: 0.0064\n",
            "Epoch 19/100\n",
            "869/869 [==============================] - 4s 5ms/step - loss: 0.0065\n",
            "Epoch 20/100\n",
            "869/869 [==============================] - 4s 5ms/step - loss: 0.0063\n",
            "Epoch 21/100\n",
            "869/869 [==============================] - 4s 5ms/step - loss: 0.0062\n",
            "Epoch 22/100\n",
            "869/869 [==============================] - 4s 5ms/step - loss: 0.0063\n",
            "Epoch 23/100\n",
            "869/869 [==============================] - 4s 5ms/step - loss: 0.0062\n",
            "Epoch 24/100\n",
            "869/869 [==============================] - 4s 5ms/step - loss: 0.0059\n",
            "Epoch 25/100\n",
            "869/869 [==============================] - 4s 5ms/step - loss: 0.0058\n",
            "Epoch 26/100\n",
            "869/869 [==============================] - 4s 5ms/step - loss: 0.0058\n",
            "Epoch 27/100\n",
            "869/869 [==============================] - 4s 5ms/step - loss: 0.0055\n",
            "Epoch 28/100\n",
            "869/869 [==============================] - 4s 5ms/step - loss: 0.0055\n",
            "Epoch 29/100\n",
            "869/869 [==============================] - 4s 4ms/step - loss: 0.0054\n",
            "Epoch 30/100\n",
            "869/869 [==============================] - 4s 4ms/step - loss: 0.0053\n",
            "Epoch 31/100\n",
            "869/869 [==============================] - 4s 4ms/step - loss: 0.0053\n",
            "Epoch 32/100\n",
            "869/869 [==============================] - 4s 4ms/step - loss: 0.0055\n",
            "Epoch 33/100\n",
            "869/869 [==============================] - 4s 5ms/step - loss: 0.0053\n",
            "Epoch 34/100\n",
            "869/869 [==============================] - 4s 5ms/step - loss: 0.0050\n",
            "Epoch 35/100\n",
            "869/869 [==============================] - 4s 5ms/step - loss: 0.0052\n",
            "Epoch 36/100\n",
            "869/869 [==============================] - 4s 5ms/step - loss: 0.0051\n",
            "Epoch 37/100\n",
            "869/869 [==============================] - 4s 5ms/step - loss: 0.0051\n",
            "Epoch 38/100\n",
            "869/869 [==============================] - 4s 5ms/step - loss: 0.0049\n",
            "Epoch 39/100\n",
            "869/869 [==============================] - 4s 5ms/step - loss: 0.0050\n",
            "Epoch 40/100\n",
            "869/869 [==============================] - 4s 5ms/step - loss: 0.0046\n",
            "Epoch 41/100\n",
            "869/869 [==============================] - 4s 5ms/step - loss: 0.0049\n",
            "Epoch 42/100\n",
            "869/869 [==============================] - 4s 5ms/step - loss: 0.0047\n",
            "Epoch 43/100\n",
            "869/869 [==============================] - 4s 4ms/step - loss: 0.0049\n",
            "Epoch 44/100\n",
            "869/869 [==============================] - 4s 5ms/step - loss: 0.0046\n",
            "Epoch 45/100\n",
            "869/869 [==============================] - 4s 5ms/step - loss: 0.0046\n",
            "Epoch 46/100\n",
            "869/869 [==============================] - 4s 5ms/step - loss: 0.0046\n",
            "Epoch 47/100\n",
            "869/869 [==============================] - 4s 5ms/step - loss: 0.0046\n",
            "Epoch 48/100\n",
            "869/869 [==============================] - 4s 4ms/step - loss: 0.0048\n",
            "Epoch 49/100\n",
            "869/869 [==============================] - 4s 4ms/step - loss: 0.0046\n",
            "Epoch 50/100\n",
            "869/869 [==============================] - 4s 5ms/step - loss: 0.0045\n",
            "Epoch 51/100\n",
            "869/869 [==============================] - 4s 5ms/step - loss: 0.0046\n",
            "Epoch 52/100\n",
            "869/869 [==============================] - 4s 5ms/step - loss: 0.0047\n",
            "Epoch 53/100\n",
            "869/869 [==============================] - 4s 4ms/step - loss: 0.0044\n",
            "Epoch 54/100\n",
            "869/869 [==============================] - 4s 5ms/step - loss: 0.0046\n",
            "Epoch 55/100\n",
            "869/869 [==============================] - 4s 5ms/step - loss: 0.0043\n",
            "Epoch 56/100\n",
            "869/869 [==============================] - 4s 4ms/step - loss: 0.0047\n",
            "Epoch 57/100\n",
            "869/869 [==============================] - 4s 5ms/step - loss: 0.0045\n",
            "Epoch 58/100\n",
            "869/869 [==============================] - 4s 5ms/step - loss: 0.0045\n",
            "Epoch 59/100\n",
            "869/869 [==============================] - 4s 5ms/step - loss: 0.0043\n",
            "Epoch 60/100\n",
            "869/869 [==============================] - 4s 5ms/step - loss: 0.0046\n",
            "Epoch 61/100\n",
            "869/869 [==============================] - 4s 5ms/step - loss: 0.0044\n",
            "Epoch 62/100\n",
            "869/869 [==============================] - 4s 5ms/step - loss: 0.0044\n",
            "Epoch 63/100\n",
            "869/869 [==============================] - 4s 5ms/step - loss: 0.0042\n",
            "Epoch 64/100\n",
            "869/869 [==============================] - 4s 5ms/step - loss: 0.0044\n",
            "Epoch 65/100\n",
            "869/869 [==============================] - 4s 5ms/step - loss: 0.0046\n",
            "Epoch 66/100\n",
            "869/869 [==============================] - 4s 5ms/step - loss: 0.0045\n",
            "Epoch 67/100\n",
            "869/869 [==============================] - 4s 5ms/step - loss: 0.0043\n",
            "Epoch 68/100\n",
            "869/869 [==============================] - 4s 5ms/step - loss: 0.0041\n",
            "Epoch 69/100\n",
            "869/869 [==============================] - 4s 4ms/step - loss: 0.0049\n",
            "Epoch 70/100\n",
            "869/869 [==============================] - 4s 4ms/step - loss: 0.0045\n",
            "Epoch 71/100\n",
            "869/869 [==============================] - 4s 5ms/step - loss: 0.0045\n",
            "Epoch 72/100\n",
            "869/869 [==============================] - 4s 5ms/step - loss: 0.0045\n",
            "Epoch 73/100\n",
            "869/869 [==============================] - 4s 5ms/step - loss: 0.0044\n",
            "Epoch 74/100\n",
            "869/869 [==============================] - 4s 5ms/step - loss: 0.0043\n",
            "Epoch 75/100\n",
            "869/869 [==============================] - 4s 4ms/step - loss: 0.0045\n",
            "Epoch 76/100\n",
            "869/869 [==============================] - 4s 4ms/step - loss: 0.0043\n",
            "Epoch 77/100\n",
            "869/869 [==============================] - 4s 4ms/step - loss: 0.0042\n",
            "Epoch 78/100\n",
            "869/869 [==============================] - 4s 5ms/step - loss: 0.0044\n",
            "Epoch 79/100\n",
            "869/869 [==============================] - 4s 5ms/step - loss: 0.0044\n",
            "Epoch 80/100\n",
            "869/869 [==============================] - 4s 5ms/step - loss: 0.0045\n",
            "Epoch 81/100\n",
            "869/869 [==============================] - 4s 5ms/step - loss: 0.0045\n",
            "Epoch 82/100\n",
            "869/869 [==============================] - 4s 5ms/step - loss: 0.0044\n",
            "Epoch 83/100\n",
            "869/869 [==============================] - 4s 5ms/step - loss: 0.0043\n",
            "Epoch 84/100\n",
            "869/869 [==============================] - 4s 5ms/step - loss: 0.0045\n",
            "Epoch 85/100\n",
            "869/869 [==============================] - 4s 5ms/step - loss: 0.0043\n",
            "Epoch 86/100\n",
            "869/869 [==============================] - 4s 5ms/step - loss: 0.0044\n",
            "Epoch 87/100\n",
            "869/869 [==============================] - 4s 5ms/step - loss: 0.0043\n",
            "Epoch 88/100\n",
            "869/869 [==============================] - 4s 5ms/step - loss: 0.0045\n",
            "Epoch 89/100\n",
            "869/869 [==============================] - 4s 5ms/step - loss: 0.0043\n",
            "Epoch 90/100\n",
            "869/869 [==============================] - 4s 5ms/step - loss: 0.0043\n",
            "Epoch 91/100\n",
            "869/869 [==============================] - 4s 5ms/step - loss: 0.0043\n",
            "Epoch 92/100\n",
            "869/869 [==============================] - 4s 5ms/step - loss: 0.0045\n",
            "Epoch 93/100\n",
            "869/869 [==============================] - 4s 5ms/step - loss: 0.0042\n",
            "Epoch 94/100\n",
            "869/869 [==============================] - 4s 5ms/step - loss: 0.0042\n",
            "Epoch 95/100\n",
            "869/869 [==============================] - 4s 5ms/step - loss: 0.0042\n",
            "Epoch 96/100\n",
            "869/869 [==============================] - 4s 5ms/step - loss: 0.0045\n",
            "Epoch 97/100\n",
            "869/869 [==============================] - 4s 5ms/step - loss: 0.0044\n",
            "Epoch 98/100\n",
            "869/869 [==============================] - 4s 5ms/step - loss: 0.0042\n",
            "Epoch 99/100\n",
            "869/869 [==============================] - 4s 5ms/step - loss: 0.0043\n",
            "Epoch 100/100\n",
            "869/869 [==============================] - 4s 5ms/step - loss: 0.0041\n"
          ],
          "name": "stdout"
        },
        {
          "output_type": "execute_result",
          "data": {
            "text/plain": [
              "<keras.callbacks.History at 0x7fb19c0ed9b0>"
            ]
          },
          "metadata": {
            "tags": []
          },
          "execution_count": 150
        }
      ]
    },
    {
      "cell_type": "code",
      "metadata": {
        "id": "kEH5KlCBd3EQ",
        "colab_type": "code",
        "colab": {
          "base_uri": "https://localhost:8080/",
          "height": 34
        },
        "outputId": "c17d2f68-15b0-4e7b-8379-c812fcdf5a6e"
      },
      "source": [
        "tes.shape"
      ],
      "execution_count": 152,
      "outputs": [
        {
          "output_type": "execute_result",
          "data": {
            "text/plain": [
              "(395, 2)"
            ]
          },
          "metadata": {
            "tags": []
          },
          "execution_count": 152
        }
      ]
    },
    {
      "cell_type": "code",
      "metadata": {
        "id": "p9VDlFDqd4cK",
        "colab_type": "code",
        "colab": {}
      },
      "source": [
        "test_features = []  \n",
        "for i in range(50, 395):  \n",
        "    test_features.append(tes[i-50:i, 0:2])\n"
      ],
      "execution_count": 0,
      "outputs": []
    },
    {
      "cell_type": "code",
      "metadata": {
        "id": "UqUcl_RTem7Z",
        "colab_type": "code",
        "colab": {}
      },
      "source": [
        "test_features = np.array(test_features) "
      ],
      "execution_count": 0,
      "outputs": []
    },
    {
      "cell_type": "code",
      "metadata": {
        "id": "Ia2K4vuAeyvx",
        "colab_type": "code",
        "colab": {
          "base_uri": "https://localhost:8080/",
          "height": 34
        },
        "outputId": "ece0cd53-391f-4498-b74c-cc8987d510c9"
      },
      "source": [
        "test_features.shape"
      ],
      "execution_count": 157,
      "outputs": [
        {
          "output_type": "execute_result",
          "data": {
            "text/plain": [
              "(345, 50, 2)"
            ]
          },
          "metadata": {
            "tags": []
          },
          "execution_count": 157
        }
      ]
    },
    {
      "cell_type": "code",
      "metadata": {
        "id": "vwFhqMDve280",
        "colab_type": "code",
        "colab": {}
      },
      "source": [
        "test_features = np.reshape(test_features, (test_features.shape[0], test_features.shape[1], 2))  "
      ],
      "execution_count": 0,
      "outputs": []
    },
    {
      "cell_type": "code",
      "metadata": {
        "id": "6-4MRHxue7m2",
        "colab_type": "code",
        "colab": {}
      },
      "source": [
        "predictions = model.predict(test_features)  "
      ],
      "execution_count": 0,
      "outputs": []
    },
    {
      "cell_type": "code",
      "metadata": {
        "id": "_VHdt7ITfVvx",
        "colab_type": "code",
        "colab": {
          "base_uri": "https://localhost:8080/",
          "height": 34
        },
        "outputId": "70b1fb4f-6596-4921-fd58-9276e1830c6e"
      },
      "source": [
        "predictions.shape"
      ],
      "execution_count": 166,
      "outputs": [
        {
          "output_type": "execute_result",
          "data": {
            "text/plain": [
              "(345, 1)"
            ]
          },
          "metadata": {
            "tags": []
          },
          "execution_count": 166
        }
      ]
    },
    {
      "cell_type": "code",
      "metadata": {
        "id": "b_IWFlSthL-H",
        "colab_type": "code",
        "colab": {
          "base_uri": "https://localhost:8080/",
          "height": 1360
        },
        "outputId": "17491e56-addf-4dce-c31f-1fd69dfac691"
      },
      "source": [
        "tes[:,0]"
      ],
      "execution_count": 168,
      "outputs": [
        {
          "output_type": "execute_result",
          "data": {
            "text/plain": [
              "array([0.10062224, 0.12193223, 0.07989337, 0.09763782, 0.06625225,\n",
              "       0.04746855, 0.11659693, 0.12678537, 0.21847626, 0.15387919,\n",
              "       0.17056376, 0.17030321, 0.18467565, 0.11220281, 0.13011567,\n",
              "       0.11488755, 0.10610451, 0.11408831, 0.10878154, 0.1391362 ,\n",
              "       0.29313526, 0.13853794, 0.11663488, 0.11308109, 0.08780315,\n",
              "       0.06703624, 0.06757529, 0.11339467, 0.07402754, 0.07885762,\n",
              "       0.1102204 , 0.12756864, 0.08927432, 0.11413129, 0.09320611,\n",
              "       0.0800459 , 0.0928029 , 0.08701172, 0.15347437, 0.139852  ,\n",
              "       0.10699715, 0.10650072, 0.12401216, 0.14428946, 0.11681145,\n",
              "       0.12336491, 0.1304183 , 0.17704266, 0.11927539, 0.13761874,\n",
              "       0.13600814, 0.21284595, 0.43336033, 0.33749029, 0.3072415 ,\n",
              "       0.2104039 , 0.25139661, 0.31367069, 0.18357701, 0.1081926 ,\n",
              "       0.13814756, 0.1594912 , 0.15004628, 0.12395591, 0.13451266,\n",
              "       0.1167822 , 0.10609598, 0.13520962, 0.15835299, 0.16740331,\n",
              "       0.22465791, 0.2030818 , 0.10174448, 0.13360961, 0.1139024 ,\n",
              "       0.1243182 , 0.18962632, 0.18829153, 0.1674427 , 0.11508664,\n",
              "       0.12469845, 0.23389916, 0.21059976, 0.16098569, 0.16781217,\n",
              "       0.23118669, 0.19192965, 0.23200935, 0.27577599, 0.29941175,\n",
              "       0.24282926, 0.23967213, 0.20312343, 0.22040025, 0.1200252 ,\n",
              "       0.15548458, 0.15528594, 0.17725234, 0.13172958, 0.1210945 ,\n",
              "       0.10477905, 0.10642903, 0.20671634, 0.11921743, 0.15557529,\n",
              "       0.16865592, 0.20375041, 0.42554305, 0.19896366, 0.1773365 ,\n",
              "       0.14440897, 0.14859288, 0.12733662, 0.13692994, 0.16200978,\n",
              "       0.17306117, 0.1306417 , 0.10850304, 0.18163157, 0.1286183 ,\n",
              "       0.11172809, 0.12939744, 0.13336009, 0.08809663, 0.09180851,\n",
              "       0.13355228, 0.0901099 , 0.09696841, 0.09418811, 0.06727517,\n",
              "       0.07814505, 0.16605201, 0.10067015, 0.27610912, 0.21612384,\n",
              "       0.16805909, 0.13729556, 0.15159003, 0.13565284, 0.11501675,\n",
              "       0.09539056, 0.07996892, 0.13297528, 0.12042033, 0.18942076,\n",
              "       0.12495631, 0.14428991, 0.14717204, 0.10985712, 0.11683855,\n",
              "       0.19266349, 0.13923552, 0.11482286, 0.09550935, 0.11377141,\n",
              "       0.10593305, 0.06021245, 0.09446087, 0.08597346, 0.08058279,\n",
              "       0.07010114, 0.09747094, 0.1115377 , 0.10890024, 0.0934567 ,\n",
              "       0.14150548, 0.12411211, 0.111989  , 0.11116221, 0.23113241,\n",
              "       0.29566335, 0.18912971, 0.20877796, 0.18912181, 0.16283154,\n",
              "       0.14578808, 0.13989507, 0.13570919, 0.09551707, 0.09627064,\n",
              "       0.13324947, 0.12217574, 0.07153471, 0.0986393 , 0.08516578,\n",
              "       0.11974284, 0.16219093, 0.11771971, 0.12325904, 0.07684938,\n",
              "       0.10586737, 0.07837474, 0.0879791 , 0.08421258, 0.10291355,\n",
              "       0.11561546, 0.11556226, 0.11774447, 0.161897  , 0.16083317,\n",
              "       0.18265556, 0.16856548, 0.12499157, 0.09935133, 0.10777728,\n",
              "       0.1151464 , 0.12507869, 0.08311537, 0.11405565, 0.10555541,\n",
              "       0.10563742, 0.10783865, 0.39082773, 0.10861717, 0.08340939,\n",
              "       0.12009276, 0.11092714, 0.1165387 , 0.11998653, 0.14783186,\n",
              "       0.10760762, 0.19234821, 0.10554088, 0.16770881, 0.11670774,\n",
              "       0.23032052, 0.2630267 , 0.18141202, 0.11980538, 0.16486903,\n",
              "       0.12468463, 0.18381064, 0.11275092, 0.13335821, 0.16507602,\n",
              "       0.17066228, 0.22465899, 0.37479194, 0.34683849, 0.28721677,\n",
              "       0.22615734, 0.12994313, 0.1634159 , 0.21791711, 0.10921516,\n",
              "       0.1838599 , 0.13055324, 0.11979847, 0.12752935, 0.13355999,\n",
              "       0.13940286, 0.16250406, 0.14654255, 0.16412578, 0.21886027,\n",
              "       0.136713  , 0.06132752, 0.16495328, 0.16090719, 0.21456439,\n",
              "       0.12521641, 0.22847503, 0.16979153, 0.20369245, 0.24674974,\n",
              "       0.18757178, 0.16020117, 0.12083897, 0.13595933, 0.11854631,\n",
              "       0.15054145, 0.2090247 , 0.18787037, 0.21635416, 0.23786271,\n",
              "       0.4084576 , 0.14197536, 0.20898711, 0.18788966, 0.12482863,\n",
              "       0.13320174, 0.13536762, 0.16342343, 0.18592251, 0.17676488,\n",
              "       0.15615525, 0.10680811, 0.12893412, 0.13500604, 0.10044217,\n",
              "       0.12958568, 0.11776861, 0.10907851, 0.17278814, 0.14350691,\n",
              "       0.08510953, 0.11751631, 0.0993088 , 0.11392986, 0.08961401,\n",
              "       0.11070122, 0.13669389, 0.12988813, 0.22522423, 0.31600381,\n",
              "       0.18785422, 0.1823759 , 0.09547284, 0.09473658, 0.14361996,\n",
              "       0.09337326, 0.08377734, 0.12870847, 0.09316555, 0.09620075,\n",
              "       0.12622165, 0.09334912, 0.1244754 , 0.13115787, 0.08617147,\n",
              "       0.13755566, 0.12915645, 0.128916  , 0.1269047 , 0.09745291,\n",
              "       0.10391072, 0.10805542, 0.14009156, 0.17983597, 0.12802255,\n",
              "       0.10255359, 0.21978826, 0.1080765 , 0.12533511, 0.18675002,\n",
              "       0.10658649, 0.14902587, 0.13331837, 0.16927868, 0.12150884,\n",
              "       0.08603518, 0.11319665, 0.10589886, 0.07113931, 0.09028369,\n",
              "       0.08452059, 0.08012315, 0.07644626, 0.07693498, 0.0642939 ,\n",
              "       0.06293847, 0.08244237, 0.10581973, 0.07602358, 0.10801908,\n",
              "       0.1173331 , 0.07165584, 0.11334218, 0.09035645, 0.09794763,\n",
              "       0.10949141, 0.21576792, 0.55508692, 0.23642142, 0.17378074,\n",
              "       0.176996  , 0.13960805, 0.1384798 , 0.11678023, 0.10569591,\n",
              "       0.11723171, 0.16622894, 0.16407167, 0.20468854, 0.13668859,\n",
              "       0.10772811, 0.12070807, 0.10337975, 0.08136929, 0.10689164,\n",
              "       0.09908952, 0.12177343, 0.13729942, 0.08469205, 0.13460696,\n",
              "       0.45961265, 0.25351341, 0.19384449, 0.15210638, 0.16100014,\n",
              "       0.13066324, 0.12822415, 0.094506  , 0.09421395, 0.0990269 ])"
            ]
          },
          "metadata": {
            "tags": []
          },
          "execution_count": 168
        }
      ]
    },
    {
      "cell_type": "code",
      "metadata": {
        "id": "-cRbXL2ZhDIv",
        "colab_type": "code",
        "colab": {
          "base_uri": "https://localhost:8080/",
          "height": 404
        },
        "outputId": "0e3dee53-c78c-4756-f76b-8ff7eee30e9d"
      },
      "source": [
        "plt.figure(figsize=(10,6))  \n",
        "plt.plot(tes[0:50,0], color='blue', label='Actual Google Stock Price')  \n",
        "plt.plot(predictions[0:50] , color='red', label='Predicted Apple Stock Price')  \n",
        "plt.title('Google Stock Price Prediction')  \n",
        "plt.xlabel('Date')  \n",
        "plt.ylabel('Apple Stock Price')  \n",
        "plt.legend()  \n",
        "plt.show() "
      ],
      "execution_count": 173,
      "outputs": [
        {
          "output_type": "display_data",
          "data": {
            "image/png": "[encoded data removed]",
            "text/plain": [
              "<Figure size 720x432 with 1 Axes>"
            ]
          },
          "metadata": {
            "tags": []
          }
        }
      ]
    },
    {
      "cell_type": "code",
      "metadata": {
        "id": "2O6tHUyqhb71",
        "colab_type": "code",
        "colab": {}
      },
      "source": [
        ""
      ],
      "execution_count": 0,
      "outputs": []
    }
  ]
}